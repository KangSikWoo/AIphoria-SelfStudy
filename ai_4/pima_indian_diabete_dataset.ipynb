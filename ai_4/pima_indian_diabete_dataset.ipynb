{
 "cells": [
  {
   "cell_type": "markdown",
   "metadata": {},
   "source": [
    "데이터 처리 \n",
    "1. EDA\n",
    "2. 학습\n",
    "3. 훈련 : 데이터의 80% 이용\n",
    "4. 평가 : 데이터의 20% 이용\n",
    "\n",
    "당뇨병 데이터 분석\n",
    "\n",
    "목적 : 정확한 당뇨 관련 데이터를 통해 환자가 당뇨에 걸렸는가를 예측 가능하게 하기 위함 (Pima Indian의 여성, 21살 이상)\n",
    "\n",
    "데이터 컬럼 설명\n",
    "\n",
    "    1. Pregnancies : 임신 횟수\n",
    "    2. Glucose : 포도당 부하 검사 수치\n",
    "    3. BloodPressure : 혈압\n",
    "    4. SkinThinkness : 팔 삼두근 뒤쪽의 피하지방 측정값\n",
    "    5. Insulin : 혈청 인슐린\n",
    "    6. BMI : 체질량 지수\n",
    "    7. DiabetesPedigreeFunction : 당뇨 내력 가중치 값\n",
    "    8. Age : 나이\n",
    "    9. Outcome : 클래스 결정 값(0 또는 1)"
   ]
  }
 ],
 "metadata": {
  "language_info": {
   "name": "python"
  },
  "orig_nbformat": 4
 },
 "nbformat": 4,
 "nbformat_minor": 2
}
